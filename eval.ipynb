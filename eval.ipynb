{
 "cells": [
  {
   "cell_type": "code",
   "execution_count": 4,
   "metadata": {},
   "outputs": [],
   "source": [
    "from sklearn.linear_model import LogisticRegression\n",
    "from sklearn.ensemble import RandomForestClassifier\n",
    "from sklearn.metrics import f1_score\n",
    "import pandas as pd\n",
    "import numpy as np\n",
    "import matplotlib.pyplot as plte\n",
    "import pickle\n",
    "import os"
   ]
  },
  {
   "cell_type": "code",
   "execution_count": 6,
   "metadata": {},
   "outputs": [
    {
     "name": "stdout",
     "output_type": "stream",
     "text": [
      "d:\\Github_Projects\\Amexpert\n"
     ]
    }
   ],
   "source": [
    "print(os.getcwd())"
   ]
  },
  {
   "cell_type": "code",
   "execution_count": 8,
   "metadata": {},
   "outputs": [],
   "source": [
    "xtrain=pd.read_csv(\"./dataset/train_processed.csv\")\n",
    "xval=pd.read_csv(\"./dataset/validation_processed.csv\")\n",
    "test_data=pd.read_csv(\"./dataset/test_processed.csv\")\n",
    "ytrain=pd.read_csv(\"./dataset/ytrain_processed.csv\")\n",
    "yval=pd.read_csv(\"./dataset/yval_processed.csv\")"
   ]
  },
  {
   "cell_type": "markdown",
   "metadata": {},
   "source": [
    "### Logistic Regression"
   ]
  },
  {
   "cell_type": "code",
   "execution_count": 9,
   "metadata": {},
   "outputs": [
    {
     "name": "stdout",
     "output_type": "stream",
     "text": [
      "85.8857007355339\n"
     ]
    }
   ],
   "source": [
    "reg_model=LogisticRegression(random_state=32)\n",
    "reg_model.fit(xtrain,ytrain['credit_card_default'])\n",
    "predicted_val= reg_model.predict(xval)\n",
    "score_train=100*f1_score(predicted_val,yval['credit_card_default'],average='macro')\n",
    "#model.score(xval,yval)\n",
    "print(score_train)"
   ]
  },
  {
   "cell_type": "code",
   "execution_count": 10,
   "metadata": {},
   "outputs": [],
   "source": [
    "predicted_test= reg_model.predict(test_data)\n"
   ]
  },
  {
   "cell_type": "markdown",
   "metadata": {},
   "source": [
    "### Tree Classifier."
   ]
  },
  {
   "cell_type": "code",
   "execution_count": 11,
   "metadata": {},
   "outputs": [
    {
     "name": "stdout",
     "output_type": "stream",
     "text": [
      "92.83395276944385\n"
     ]
    }
   ],
   "source": [
    "tree_model=RandomForestClassifier(n_estimators=200)\n",
    "tree_model.fit(xtrain,ytrain['credit_card_default'])\n",
    "predicted_val=tree_model.predict(xval)\n",
    "score_train=100*f1_score(predicted_val,yval['credit_card_default'],average='macro')\n",
    "print(score_train)"
   ]
  },
  {
   "cell_type": "code",
   "execution_count": 13,
   "metadata": {},
   "outputs": [
    {
     "name": "stdout",
     "output_type": "stream",
     "text": [
      "d:\\Github_Projects\\Amexpert\n"
     ]
    }
   ],
   "source": [
    "import pickle,os\n",
    "\n",
    "print(os.getcwd())\n",
    "filename='RFModel.tar.gz'\n",
    "pickle.dump(tree_model,open(filename,'wb'))"
   ]
  },
  {
   "cell_type": "code",
   "execution_count": 14,
   "metadata": {},
   "outputs": [],
   "source": [
    "predicted_test= tree_model.predict(test_data)"
   ]
  },
  {
   "cell_type": "code",
   "execution_count": 15,
   "metadata": {},
   "outputs": [],
   "source": [
    "test_data.reset_index(inplace=True)"
   ]
  },
  {
   "cell_type": "code",
   "execution_count": 16,
   "metadata": {},
   "outputs": [],
   "source": [
    "final_data=pd.concat([test_data['customer_id'],pd.DataFrame(predicted_test)[0]],axis=1)\n",
    "final_data.columns=[\"customer_id\",\"credit_card_default\"]\n",
    "final_data.reset_index(drop=True)\n",
    "final_data.to_csv(\"final1.csv\",index=False)"
   ]
  },
  {
   "cell_type": "code",
   "execution_count": 17,
   "metadata": {},
   "outputs": [
    {
     "data": {
      "text/plain": [
       "(11382, 2)"
      ]
     },
     "execution_count": 17,
     "metadata": {},
     "output_type": "execute_result"
    }
   ],
   "source": [
    "final_data.shape"
   ]
  },
  {
   "cell_type": "code",
   "execution_count": null,
   "metadata": {},
   "outputs": [],
   "source": []
  }
 ],
 "metadata": {
  "interpreter": {
   "hash": "81794d4967e6c3204c66dcd87b604927b115b27c00565d3d43f05ba2f3a2cb0d"
  },
  "kernelspec": {
   "display_name": "Python 3.9.2 64-bit",
   "language": "python",
   "name": "python3"
  },
  "language_info": {
   "codemirror_mode": {
    "name": "ipython",
    "version": 3
   },
   "file_extension": ".py",
   "mimetype": "text/x-python",
   "name": "python",
   "nbconvert_exporter": "python",
   "pygments_lexer": "ipython3",
   "version": "3.9.2"
  },
  "orig_nbformat": 4
 },
 "nbformat": 4,
 "nbformat_minor": 2
}
